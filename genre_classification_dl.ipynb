{
 "cells": [
  {
   "cell_type": "code",
   "execution_count": 69,
   "id": "47faec9b-649d-44ee-bd02-883956411c93",
   "metadata": {},
   "outputs": [],
   "source": [
    "import pandas as pd\n",
    "import numpy as np\n",
    "\n",
    "import torch\n",
    "from torch.utils.data import Dataset\n",
    "from torchvision import models\n",
    "\n",
    "import pickle\n",
    "from tqdm import tqdm, auto\n",
    "\n",
    "import os"
   ]
  },
  {
   "cell_type": "code",
   "execution_count": 53,
   "id": "83e4bf99-8a5d-40ef-bc03-f98a1727d7dc",
   "metadata": {},
   "outputs": [],
   "source": [
    "class AudioDataset(Dataset):\n",
    "    def __init__(self, pkl_dir, transforms=None):\n",
    "        self.data = []\n",
    "        self.length = 1500\n",
    "        self.transforms = transforms\n",
    "        with open(pkl_dir, \"rb\") as f:\n",
    "            self.data = pickle.load(f)\n",
    "\n",
    "    def __len__(self):\n",
    "        return len(self.data)\n",
    "    \n",
    "    def __getitem__(self, idx):\n",
    "        entry = self.data[idx]\n",
    "        output_data = {}\n",
    "        values = entry[\"values\"].reshape(-1, 128, self.length)\n",
    "        values = torch.Tensor(values)\n",
    "        if self.transforms:\n",
    "            values = self.transforms(values)\n",
    "        target = torch.LongTensor([entry[\"target\"]])\n",
    "        return (values, target)\n",
    "\n",
    "    \n",
    "def fetch_dataloader(pkl_dir, batch_size, num_workers):\n",
    "    dataset = AudioDataset(pkl_dir)\n",
    "    dataloader = DataLoader(dataset, shuffle=True, batch_size=batch_size, num_workers=num_workers)\n",
    "    return dataloader"
   ]
  },
  {
   "cell_type": "code",
   "execution_count": 55,
   "id": "74b00247-2ad5-40d4-bfc0-21a2119dd2fa",
   "metadata": {},
   "outputs": [],
   "source": [
    "train_loader = fetch_dataloader( \"data/training128mel1.pkl\", 16, 8)\n",
    "val_loader = fetch_dataloader(\"data/validation128mel1.pkl\", 16, 8)"
   ]
  },
  {
   "cell_type": "code",
   "execution_count": 80,
   "id": "7bc48683-36ef-4e98-b004-7b8f8017d7cc",
   "metadata": {},
   "outputs": [],
   "source": [
    "def train_epoch(model, device, data_loader, optimizer, loss_fn):\n",
    "    model.train()\n",
    "    loss_total, cnt = 0, 0\n",
    "\n",
    "    with tqdm(total=len(data_loader)) as t:\n",
    "        for batch_idx, data in enumerate(data_loader):\n",
    "            inputs = data[0].to(device)\n",
    "            target = data[1].squeeze(1).to(device)\n",
    "\n",
    "            outputs = model(inputs)\n",
    "\n",
    "            loss = loss_fn(outputs, target)\n",
    "\n",
    "            optimizer.zero_grad()\n",
    "            loss.backward()\n",
    "            optimizer.step()\n",
    "\n",
    "            loss_total += loss.item()\n",
    "            cnt += 1\n",
    "\n",
    "            t.set_postfix(loss='{:05.3f}'.format(loss_total / cnt))\n",
    "            t.update()\n",
    "    return loss_total / cnt\n",
    "\n",
    "def validate(model, device, test_loader):\n",
    "    correct = 0\n",
    "    total = 0\n",
    "    model.eval()\n",
    "    with torch.no_grad():\n",
    "        for batch_idx, data in enumerate(test_loader):\n",
    "            inputs = data[0].to(device)\n",
    "            target = data[1].squeeze(1).to(device)\n",
    "\n",
    "            outputs = model(inputs)\n",
    "\n",
    "            _, predicted = torch.max(outputs.data, 1)\n",
    "            total += target.size(0)\n",
    "            correct += (predicted == target).sum().item()\n",
    "\n",
    "    return (100*correct/total)"
   ]
  },
  {
   "cell_type": "code",
   "execution_count": 76,
   "id": "7dfd6b9b-ff05-4120-b8b1-be147cddabe6",
   "metadata": {},
   "outputs": [],
   "source": [
    "class Inception(torch.nn.Module):\n",
    "\tdef __init__(self, dataset, pretrained=True):\n",
    "\t\tsuper(Inception, self).__init__()\n",
    "\t\tnum_classes = 50 if dataset==\"ESC\" else 10\n",
    "\t\tself.model = models.inception_v3(pretrained=pretrained, aux_logits=False)\n",
    "\t\tself.model.fc = torch.nn.Linear(2048, num_classes)\n",
    "\n",
    "\tdef forward(self, x):\n",
    "\t\toutput = self.model(x)\n",
    "\t\treturn output"
   ]
  },
  {
   "cell_type": "code",
   "execution_count": 78,
   "id": "7e30a2aa-1ae1-4bfe-9710-9065d07bb640",
   "metadata": {},
   "outputs": [],
   "source": [
    "device = torch.device(\"cpu\")\n",
    "\n",
    "model = Inception(\"GTZAN\", True).to(device)\n",
    "loss_fn = torch.nn.CrossEntropyLoss()\n",
    "optimizer = torch.optim.Adam(model.parameters(), lr=1e-4, weight_decay=1e-3)\n",
    "loss_e1 = train_epoch(model, device, train_loader, optimizer, loss_fn)"
   ]
  },
  {
   "cell_type": "code",
   "execution_count": 82,
   "id": "e22c4d2b-c056-4313-893c-cb2b4c051c2e",
   "metadata": {},
   "outputs": [
    {
     "name": "stdout",
     "output_type": "stream",
     "text": [
      "Epoch 1 Loss:1.798953764438629 Valid Acc:67.5\n"
     ]
    }
   ],
   "source": [
    "acc_e1 = validate(model, device, val_loader)\n",
    "print(\"Epoch 1 Loss:{} Valid Acc:{}\".format(loss_e1, acc_e1))"
   ]
  },
  {
   "cell_type": "markdown",
   "id": "c5210217-71e6-49fb-bafd-6bc3533dd0a3",
   "metadata": {},
   "source": [
    "## My netwurk."
   ]
  },
  {
   "cell_type": "code",
   "execution_count": 36,
   "id": "08e3e7b0-f313-42ff-9cc2-7cb84d8bc0c8",
   "metadata": {},
   "outputs": [],
   "source": [
    "class MyNetwurk(torch.nn.Module):\n",
    "    def __init__(self, input_size, num_classes):\n",
    "        super(MyNetwurk, self).__init__()\n",
    "        c, _, _ = input_size\n",
    "        \n",
    "        self.convlayers = torch.nn.Sequential(\n",
    "            torch.nn.Conv2d(c, 6, (3, 3)),\n",
    "            torch.nn.BatchNorm2d(6),\n",
    "            torch.nn.ReLU(inplace=True),\n",
    "            torch.nn.MaxPool2d((2, 2), stride=2), \n",
    "            \n",
    "            torch.nn.Conv2d(6, 16, (3, 3)), \n",
    "            torch.nn.BatchNorm2d(16),\n",
    "            torch.nn.ReLU(inplace=True),\n",
    "            torch.nn.MaxPool2d((2, 2), stride=2),\n",
    "            \n",
    "            torch.nn.Conv2d(16, 64, (3, 3)), \n",
    "            torch.nn.BatchNorm2d(64),\n",
    "            torch.nn.ReLU(inplace=True),\n",
    "            torch.nn.MaxPool2d((2, 2), stride=2),\n",
    "        )\n",
    "\n",
    "        self.fc = torch.nn.Sequential(\n",
    "            torch.nn.Linear(256, 120),\n",
    "            torch.nn.BatchNorm1d(120),\n",
    "            torch.nn.ReLU(inplace=True),\n",
    "            \n",
    "            torch.nn.Linear(120, 60),\n",
    "            torch.nn.BatchNorm1d(60),\n",
    "            torch.nn.ReLU(inplace=True),\n",
    "\n",
    "            torch.nn.Linear(60, num_classes),\n",
    "        )\n",
    "\n",
    "    def forward(self, x):\n",
    "        x = self.convlayers(x)\n",
    "        x = x.view(x.shape[0], -1)\n",
    "        x = self.fc(x)\n",
    "        return x"
   ]
  },
  {
   "cell_type": "code",
   "execution_count": 37,
   "id": "9dbd1636-9cf1-4edf-8018-96416acb2e83",
   "metadata": {},
   "outputs": [],
   "source": [
    "net = MyNetwurk((3, 1234, 1234), 10)"
   ]
  },
  {
   "cell_type": "code",
   "execution_count": 42,
   "id": "0d396cea-601b-48b3-817b-f21aaa75f258",
   "metadata": {},
   "outputs": [],
   "source": [
    "with open(\"test.pkl\", 'wb') as f:\n",
    "    pickle.dump(net, f)"
   ]
  },
  {
   "cell_type": "code",
   "execution_count": 43,
   "id": "b81c4fb6-9179-4bfa-be6a-4c27e1317db1",
   "metadata": {},
   "outputs": [
    {
     "data": {
      "text/plain": [
       "MyNetwurk(\n",
       "  (convlayers): Sequential(\n",
       "    (0): Conv2d(3, 6, kernel_size=(3, 3), stride=(1, 1))\n",
       "    (1): BatchNorm2d(6, eps=1e-05, momentum=0.1, affine=True, track_running_stats=True)\n",
       "    (2): ReLU(inplace=True)\n",
       "    (3): MaxPool2d(kernel_size=(2, 2), stride=2, padding=0, dilation=1, ceil_mode=False)\n",
       "    (4): Conv2d(6, 16, kernel_size=(3, 3), stride=(1, 1))\n",
       "    (5): BatchNorm2d(16, eps=1e-05, momentum=0.1, affine=True, track_running_stats=True)\n",
       "    (6): ReLU(inplace=True)\n",
       "    (7): MaxPool2d(kernel_size=(2, 2), stride=2, padding=0, dilation=1, ceil_mode=False)\n",
       "    (8): Conv2d(16, 64, kernel_size=(3, 3), stride=(1, 1))\n",
       "    (9): BatchNorm2d(64, eps=1e-05, momentum=0.1, affine=True, track_running_stats=True)\n",
       "    (10): ReLU(inplace=True)\n",
       "    (11): MaxPool2d(kernel_size=(2, 2), stride=2, padding=0, dilation=1, ceil_mode=False)\n",
       "  )\n",
       "  (fc): Sequential(\n",
       "    (0): Linear(in_features=256, out_features=120, bias=True)\n",
       "    (1): BatchNorm1d(120, eps=1e-05, momentum=0.1, affine=True, track_running_stats=True)\n",
       "    (2): ReLU(inplace=True)\n",
       "    (3): Linear(in_features=120, out_features=60, bias=True)\n",
       "    (4): BatchNorm1d(60, eps=1e-05, momentum=0.1, affine=True, track_running_stats=True)\n",
       "    (5): ReLU(inplace=True)\n",
       "    (6): Linear(in_features=60, out_features=10, bias=True)\n",
       "  )\n",
       ")"
      ]
     },
     "execution_count": 43,
     "metadata": {},
     "output_type": "execute_result"
    }
   ],
   "source": [
    "with open(\"test.pkl\", 'rb') as f:\n",
    "    obj = pickle.load(f)\n",
    "\n",
    "obj"
   ]
  },
  {
   "cell_type": "code",
   "execution_count": null,
   "id": "9d319cde-7802-4abd-a190-1c01ca1a353b",
   "metadata": {},
   "outputs": [],
   "source": []
  }
 ],
 "metadata": {
  "kernelspec": {
   "display_name": "Python 3 (ipykernel)",
   "language": "python",
   "name": "python3"
  },
  "language_info": {
   "codemirror_mode": {
    "name": "ipython",
    "version": 3
   },
   "file_extension": ".py",
   "mimetype": "text/x-python",
   "name": "python",
   "nbconvert_exporter": "python",
   "pygments_lexer": "ipython3",
   "version": "3.9.7"
  }
 },
 "nbformat": 4,
 "nbformat_minor": 5
}

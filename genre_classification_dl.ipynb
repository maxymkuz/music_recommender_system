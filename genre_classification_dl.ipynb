{
 "cells": [
  {
   "cell_type": "code",
   "execution_count": 25,
   "id": "47faec9b-649d-44ee-bd02-883956411c93",
   "metadata": {},
   "outputs": [],
   "source": [
    "import cv2\n",
    "import os"
   ]
  },
  {
   "cell_type": "code",
   "execution_count": 26,
   "id": "3f09118f-6b28-4816-bc75-1886507a97bb",
   "metadata": {},
   "outputs": [
    {
     "name": "stdout",
     "output_type": "stream",
     "text": [
      "sadge\n"
     ]
    }
   ],
   "source": [
    "for genre in os.listdir('GTZAN/images_original'):\n",
    "    for file in os.listdir('GTZAN/images_original/' + genre):\n",
    "        try:\n",
    "            if cv2.imread(f'GTZAN/images_original/{genre}/{file}').shape != (288, 432, 3):\n",
    "                print('sadge х2')\n",
    "        except AttributeError:\n",
    "            print('sadge')\n",
    "            continue"
   ]
  },
  {
   "cell_type": "markdown",
   "id": "1590de67-51ff-4119-8691-f462ad579f67",
   "metadata": {},
   "source": [
    "We've got a sadge, but only one, so that's fine."
   ]
  },
  {
   "cell_type": "code",
   "execution_count": 31,
   "id": "83e4bf99-8a5d-40ef-bc03-f98a1727d7dc",
   "metadata": {},
   "outputs": [],
   "source": [
    "import torchaudio\n",
    "\n",
    "# train_transform = transforms.Compose([\n",
    "#     transforms.RandomHorizontalFlip(), # FLips the image w.r.t horizontal axis\n",
    "#     transforms.RandomRotation(10),     #Rotates the image to a specified angel\n",
    "#     transforms.RandomAffine(0, shear=10, scale=(0.8,1.2)), #Performs actions like zooms, change shear angles.\n",
    "#     transforms.ColorJitter(brightness=0.2, contrast=0.2, saturation=0.2), # Set the color params\n",
    "#     transforms.PILToTensor(),\n",
    "#     transforms.ConvertImageDtype(torch.float32),\n",
    "#     # transforms.Normalize((0.4914, 0.4822, 0.4465), (0.2023, 0.1994, 0.2010))\n",
    "# ])\n",
    "# val_transform = transforms.Compose([\n",
    "#     transforms.PILToTensor(),\n",
    "#     transforms.ConvertImageDtype(torch.float32),\n",
    "#     # transforms.Normalize((0.4914, 0.4822, 0.4465), (0.2023, 0.1994, 0.2010))\n",
    "# ])\n",
    "\n",
    "# train_ds = torchaudio.datasets.GTZAN('GTZAN-torch', download=True)\n",
    "# val_ds = torchvision.datasets.CIFAR10('GTZAN-torch', train=True, download=True, transform=val_transform)\n",
    "# test_ds = torchvision.datasets.CIFAR10('GTZAN-torch', train=False, download=True, transform=val_transform)"
   ]
  },
  {
   "cell_type": "code",
   "execution_count": 34,
   "id": "76202db1-7218-42dc-b5f8-3158bf2c3fb0",
   "metadata": {},
   "outputs": [
    {
     "data": {
      "text/plain": [
       "False"
      ]
     },
     "execution_count": 34,
     "metadata": {},
     "output_type": "execute_result"
    }
   ],
   "source": [
    "import torch\n",
    "\n",
    "torch.cuda.is_available()"
   ]
  },
  {
   "cell_type": "code",
   "execution_count": 36,
   "id": "08e3e7b0-f313-42ff-9cc2-7cb84d8bc0c8",
   "metadata": {},
   "outputs": [],
   "source": [
    "class MyNetwurk(torch.nn.Module):\n",
    "    def __init__(self, input_size, num_classes):\n",
    "        super(MyNetwurk, self).__init__()\n",
    "        c, _, _ = input_size\n",
    "        \n",
    "        self.convlayers = torch.nn.Sequential(\n",
    "            torch.nn.Conv2d(c, 6, (3, 3)),\n",
    "            torch.nn.BatchNorm2d(6),\n",
    "            torch.nn.ReLU(inplace=True),\n",
    "            torch.nn.MaxPool2d((2, 2), stride=2), \n",
    "            \n",
    "            torch.nn.Conv2d(6, 16, (3, 3)), \n",
    "            torch.nn.BatchNorm2d(16),\n",
    "            torch.nn.ReLU(inplace=True),\n",
    "            torch.nn.MaxPool2d((2, 2), stride=2),\n",
    "            \n",
    "            torch.nn.Conv2d(16, 64, (3, 3)), \n",
    "            torch.nn.BatchNorm2d(64),\n",
    "            torch.nn.ReLU(inplace=True),\n",
    "            torch.nn.MaxPool2d((2, 2), stride=2),\n",
    "        )\n",
    "\n",
    "        self.fc = torch.nn.Sequential(\n",
    "            torch.nn.Linear(256, 120),\n",
    "            torch.nn.BatchNorm1d(120),\n",
    "            torch.nn.ReLU(inplace=True),\n",
    "            \n",
    "            torch.nn.Linear(120, 60),\n",
    "            torch.nn.BatchNorm1d(60),\n",
    "            torch.nn.ReLU(inplace=True),\n",
    "\n",
    "            torch.nn.Linear(60, num_classes),\n",
    "        )\n",
    "\n",
    "    def forward(self, x):\n",
    "        x = self.convlayers(x)\n",
    "        x = x.view(x.shape[0], -1)\n",
    "        x = self.fc(x)\n",
    "        return x"
   ]
  },
  {
   "cell_type": "code",
   "execution_count": 37,
   "id": "9dbd1636-9cf1-4edf-8018-96416acb2e83",
   "metadata": {},
   "outputs": [],
   "source": [
    "import pickle\n",
    "\n",
    "net = MyNetwurk((3, 1234, 1234), 10)"
   ]
  },
  {
   "cell_type": "code",
   "execution_count": 42,
   "id": "0d396cea-601b-48b3-817b-f21aaa75f258",
   "metadata": {},
   "outputs": [],
   "source": [
    "with open(\"test.pkl\", 'wb') as f:\n",
    "    pickle.dump(net, f)"
   ]
  },
  {
   "cell_type": "code",
   "execution_count": 43,
   "id": "b81c4fb6-9179-4bfa-be6a-4c27e1317db1",
   "metadata": {},
   "outputs": [
    {
     "data": {
      "text/plain": [
       "MyNetwurk(\n",
       "  (convlayers): Sequential(\n",
       "    (0): Conv2d(3, 6, kernel_size=(3, 3), stride=(1, 1))\n",
       "    (1): BatchNorm2d(6, eps=1e-05, momentum=0.1, affine=True, track_running_stats=True)\n",
       "    (2): ReLU(inplace=True)\n",
       "    (3): MaxPool2d(kernel_size=(2, 2), stride=2, padding=0, dilation=1, ceil_mode=False)\n",
       "    (4): Conv2d(6, 16, kernel_size=(3, 3), stride=(1, 1))\n",
       "    (5): BatchNorm2d(16, eps=1e-05, momentum=0.1, affine=True, track_running_stats=True)\n",
       "    (6): ReLU(inplace=True)\n",
       "    (7): MaxPool2d(kernel_size=(2, 2), stride=2, padding=0, dilation=1, ceil_mode=False)\n",
       "    (8): Conv2d(16, 64, kernel_size=(3, 3), stride=(1, 1))\n",
       "    (9): BatchNorm2d(64, eps=1e-05, momentum=0.1, affine=True, track_running_stats=True)\n",
       "    (10): ReLU(inplace=True)\n",
       "    (11): MaxPool2d(kernel_size=(2, 2), stride=2, padding=0, dilation=1, ceil_mode=False)\n",
       "  )\n",
       "  (fc): Sequential(\n",
       "    (0): Linear(in_features=256, out_features=120, bias=True)\n",
       "    (1): BatchNorm1d(120, eps=1e-05, momentum=0.1, affine=True, track_running_stats=True)\n",
       "    (2): ReLU(inplace=True)\n",
       "    (3): Linear(in_features=120, out_features=60, bias=True)\n",
       "    (4): BatchNorm1d(60, eps=1e-05, momentum=0.1, affine=True, track_running_stats=True)\n",
       "    (5): ReLU(inplace=True)\n",
       "    (6): Linear(in_features=60, out_features=10, bias=True)\n",
       "  )\n",
       ")"
      ]
     },
     "execution_count": 43,
     "metadata": {},
     "output_type": "execute_result"
    }
   ],
   "source": [
    "with open(\"test.pkl\", 'rb') as f:\n",
    "    obj = pickle.load(f)\n",
    "\n",
    "obj"
   ]
  },
  {
   "cell_type": "code",
   "execution_count": null,
   "id": "9d319cde-7802-4abd-a190-1c01ca1a353b",
   "metadata": {},
   "outputs": [],
   "source": []
  }
 ],
 "metadata": {
  "kernelspec": {
   "display_name": "Python 3 (ipykernel)",
   "language": "python",
   "name": "python3"
  },
  "language_info": {
   "codemirror_mode": {
    "name": "ipython",
    "version": 3
   },
   "file_extension": ".py",
   "mimetype": "text/x-python",
   "name": "python",
   "nbconvert_exporter": "python",
   "pygments_lexer": "ipython3",
   "version": "3.9.7"
  }
 },
 "nbformat": 4,
 "nbformat_minor": 5
}

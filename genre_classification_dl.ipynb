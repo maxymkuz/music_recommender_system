{
 "cells": [
  {
   "cell_type": "code",
   "execution_count": 6,
   "id": "47faec9b-649d-44ee-bd02-883956411c93",
   "metadata": {},
   "outputs": [],
   "source": [
    "import pandas as pd\n",
    "import numpy as np\n",
    "\n",
    "import torch\n",
    "from torch.utils.data import Dataset, DataLoader\n",
    "from torchvision import models\n",
    "\n",
    "import pickle\n",
    "from tqdm import tqdm, auto\n",
    "\n",
    "import os"
   ]
  },
  {
   "cell_type": "code",
   "execution_count": 7,
   "id": "83e4bf99-8a5d-40ef-bc03-f98a1727d7dc",
   "metadata": {},
   "outputs": [],
   "source": [
    "class AudioDataset(Dataset):\n",
    "    def __init__(self, pkl_dir, transforms=None):\n",
    "        self.data = []\n",
    "        self.length = 1500\n",
    "        self.transforms = transforms\n",
    "        with open(pkl_dir, \"rb\") as f:\n",
    "            self.data = pickle.load(f)\n",
    "\n",
    "    def __len__(self):\n",
    "        return len(self.data)\n",
    "    \n",
    "    def __getitem__(self, idx):\n",
    "        entry = self.data[idx]\n",
    "        output_data = {}\n",
    "        values = entry[\"values\"].reshape(-1, 128, self.length)\n",
    "        values = torch.Tensor(values)\n",
    "        if self.transforms:\n",
    "            values = self.transforms(values)\n",
    "        target = torch.LongTensor([entry[\"target\"]])\n",
    "        return (values, target, entry[\"filename\"])\n",
    "\n",
    "    \n",
    "def fetch_dataloader(pkl_dir, batch_size, num_workers):\n",
    "    dataset = AudioDataset(pkl_dir)\n",
    "    dataloader = DataLoader(dataset, shuffle=True, batch_size=batch_size, num_workers=num_workers)\n",
    "    return dataloader"
   ]
  },
  {
   "cell_type": "code",
   "execution_count": 8,
   "id": "74b00247-2ad5-40d4-bfc0-21a2119dd2fa",
   "metadata": {},
   "outputs": [],
   "source": [
    "train_loader = fetch_dataloader( \"data/training128mel1.pkl\", 16, 8)\n",
    "val_loader = fetch_dataloader(\"data/validation128mel1.pkl\", 16, 8)"
   ]
  },
  {
   "cell_type": "code",
   "execution_count": 9,
   "id": "7bc48683-36ef-4e98-b004-7b8f8017d7cc",
   "metadata": {},
   "outputs": [],
   "source": [
    "def train_epoch(model, device, data_loader, optimizer, loss_fn):\n",
    "    model.train()\n",
    "    loss_total, cnt = 0, 0\n",
    "\n",
    "    with tqdm(total=len(data_loader)) as t:\n",
    "        for batch_idx, data in enumerate(data_loader):\n",
    "            inputs = data[0].to(device)\n",
    "            target = data[1].squeeze(1).to(device)\n",
    "\n",
    "            outputs = model(inputs)\n",
    "\n",
    "            loss = loss_fn(outputs, target)\n",
    "\n",
    "            optimizer.zero_grad()\n",
    "            loss.backward()\n",
    "            optimizer.step()\n",
    "\n",
    "            loss_total += loss.item()\n",
    "            cnt += 1\n",
    "\n",
    "            t.set_postfix(loss='{:05.3f}'.format(loss_total / cnt))\n",
    "            t.update()\n",
    "    return loss_total / cnt\n",
    "\n",
    "def validate(model, device, test_loader):\n",
    "    correct = 0\n",
    "    total = 0\n",
    "    model.eval()\n",
    "    with torch.no_grad():\n",
    "        for batch_idx, data in enumerate(test_loader):\n",
    "            inputs = data[0].to(device)\n",
    "            target = data[1].squeeze(1).to(device)\n",
    "\n",
    "            outputs = model(inputs)\n",
    "\n",
    "            _, predicted = torch.max(outputs.data, 1)\n",
    "            total += target.size(0)\n",
    "            correct += (predicted == target).sum().item()\n",
    "\n",
    "    return (100*correct/total)\n",
    "\n",
    "def train(model, device, train_loader, val_loader, optimizer, loss_fn, scheduler=None, epochs=10, model_name=\"network\"):\n",
    "    best_acc = 0.\n",
    "\n",
    "    for epoch in range(epochs):\n",
    "        loss = train_epoch(model, device, train_loader, optimizer, loss_fn)\n",
    "        acc = validate(model, device, val_loader)\n",
    "        print(f\"Epoch {epoch}/{epochs} Loss: {loss} Valid Acc: {acc}\")\n",
    "\n",
    "        best_acc = max(best_acc, acc)\n",
    "        if scheduler:\n",
    "            scheduler.step()\n",
    "\n",
    "        with open(f\"models/{model_name}{epoch}.pkl\", 'wb') as f:\n",
    "            pickle.dump(model, f)\n",
    "            \n",
    "    print(f\"Training finished.\\nBest accuracy: {best_acc}\")"
   ]
  },
  {
   "cell_type": "markdown",
   "id": "fbcd4096-5552-43c0-b5a5-85af96455e9c",
   "metadata": {},
   "source": [
    "### Training an initial model - Inception network"
   ]
  },
  {
   "cell_type": "code",
   "execution_count": 10,
   "id": "7dfd6b9b-ff05-4120-b8b1-be147cddabe6",
   "metadata": {},
   "outputs": [],
   "source": [
    "class Inception(torch.nn.Module):\n",
    "    def __init__(self, dataset, pretrained=True):\n",
    "        super(Inception, self).__init__()\n",
    "        num_classes = 50 if dataset==\"ESC\" else 10\n",
    "        self.model = models.inception_v3(pretrained=pretrained, aux_logits=False)\n",
    "        self.model.fc = torch.nn.Linear(2048, num_classes)\n",
    "\n",
    "    def forward(self, x):\n",
    "        output = self.model(x)\n",
    "        return output"
   ]
  },
  {
   "cell_type": "code",
   "execution_count": 11,
   "id": "7e30a2aa-1ae1-4bfe-9710-9065d07bb640",
   "metadata": {},
   "outputs": [],
   "source": [
    "device = torch.device(\"cpu\")\n",
    "\n",
    "model = Inception(\"GTZAN\", True).to(device)\n",
    "loss_fn = torch.nn.CrossEntropyLoss()\n",
    "optimizer = torch.optim.Adam(model.parameters(), lr=1e-4, weight_decay=1e-3)\n",
    "scheduler = torch.optim.lr_scheduler.StepLR(optimizer, 30, gamma=0.1)"
   ]
  },
  {
   "cell_type": "code",
   "execution_count": 34,
   "id": "e22c4d2b-c056-4313-893c-cb2b4c051c2e",
   "metadata": {},
   "outputs": [
    {
     "name": "stderr",
     "output_type": "stream",
     "text": [
      "100%|█████████████████████████████████████████████████████████████████████████████████████████████████| 50/50 [06:44<00:00,  8.08s/it, loss=1.846]\n"
     ]
    },
    {
     "name": "stdout",
     "output_type": "stream",
     "text": [
      "Epoch 0/3 Loss: 1.8463783824443818 Valid Acc: 69.0\n"
     ]
    },
    {
     "name": "stderr",
     "output_type": "stream",
     "text": [
      "100%|█████████████████████████████████████████████████████████████████████████████████████████████████| 50/50 [09:01<00:00, 10.83s/it, loss=0.908]\n"
     ]
    },
    {
     "name": "stdout",
     "output_type": "stream",
     "text": [
      "Epoch 1/3 Loss: 0.908305613398552 Valid Acc: 79.5\n"
     ]
    },
    {
     "name": "stderr",
     "output_type": "stream",
     "text": [
      "100%|█████████████████████████████████████████████████████████████████████████████████████████████████| 50/50 [09:37<00:00, 11.55s/it, loss=0.461]\n"
     ]
    },
    {
     "name": "stdout",
     "output_type": "stream",
     "text": [
      "Epoch 2/3 Loss: 0.46108962774276735 Valid Acc: 81.5\n"
     ]
    },
    {
     "name": "stderr",
     "output_type": "stream",
     "text": [
      "100%|█████████████████████████████████████████████████████████████████████████████████████████████████| 50/50 [09:37<00:00, 11.54s/it, loss=0.243]\n"
     ]
    },
    {
     "name": "stdout",
     "output_type": "stream",
     "text": [
      "Epoch 3/3 Loss: 0.2433323010802269 Valid Acc: 84.0\n"
     ]
    },
    {
     "name": "stderr",
     "output_type": "stream",
     "text": [
      "100%|█████████████████████████████████████████████████████████████████████████████████████████████████| 50/50 [09:21<00:00, 11.23s/it, loss=0.189]\n"
     ]
    },
    {
     "name": "stdout",
     "output_type": "stream",
     "text": [
      "Epoch 4/3 Loss: 0.18949869092553853 Valid Acc: 84.0\n"
     ]
    },
    {
     "name": "stderr",
     "output_type": "stream",
     "text": [
      "100%|█████████████████████████████████████████████████████████████████████████████████████████████████| 50/50 [09:12<00:00, 11.04s/it, loss=0.136]\n"
     ]
    },
    {
     "name": "stdout",
     "output_type": "stream",
     "text": [
      "Epoch 5/3 Loss: 0.13611451912671327 Valid Acc: 86.5\n"
     ]
    },
    {
     "name": "stderr",
     "output_type": "stream",
     "text": [
      "100%|█████████████████████████████████████████████████████████████████████████████████████████████████| 50/50 [09:17<00:00, 11.15s/it, loss=0.127]\n"
     ]
    },
    {
     "name": "stdout",
     "output_type": "stream",
     "text": [
      "Epoch 6/3 Loss: 0.12737614192068578 Valid Acc: 83.5\n"
     ]
    },
    {
     "name": "stderr",
     "output_type": "stream",
     "text": [
      "100%|█████████████████████████████████████████████████████████████████████████████████████████████████| 50/50 [08:39<00:00, 10.40s/it, loss=0.124]\n"
     ]
    },
    {
     "name": "stdout",
     "output_type": "stream",
     "text": [
      "Epoch 7/3 Loss: 0.12419999621808529 Valid Acc: 84.5\n"
     ]
    },
    {
     "name": "stderr",
     "output_type": "stream",
     "text": [
      "100%|█████████████████████████████████████████████████████████████████████████████████████████████████| 50/50 [08:03<00:00,  9.66s/it, loss=0.082]\n"
     ]
    },
    {
     "name": "stdout",
     "output_type": "stream",
     "text": [
      "Epoch 8/3 Loss: 0.08176276277750731 Valid Acc: 86.5\n"
     ]
    },
    {
     "name": "stderr",
     "output_type": "stream",
     "text": [
      "100%|█████████████████████████████████████████████████████████████████████████████████████████████████| 50/50 [08:01<00:00,  9.64s/it, loss=0.067]\n"
     ]
    },
    {
     "name": "stdout",
     "output_type": "stream",
     "text": [
      "Epoch 9/3 Loss: 0.06722776734270156 Valid Acc: 87.0\n",
      "Training finished.\n",
      "Best accuracy: 87.0\n"
     ]
    }
   ],
   "source": [
    "train(model, device, train_loader, val_loader, optimizer, loss_fn, scheduler=scheduler, epochs=10, model_name=\"inception\")"
   ]
  },
  {
   "cell_type": "code",
   "execution_count": 12,
   "id": "022075d6-d47e-41ef-99d6-9a34b63e6551",
   "metadata": {},
   "outputs": [],
   "source": [
    "with open(\"models/inception_10epochs_87acc.pkl\", 'rb') as f:\n",
    "    final_model = pickle.load(f)"
   ]
  },
  {
   "cell_type": "markdown",
   "id": "5dbbe81d-1e51-4ef3-9734-e14e8e78d9bc",
   "metadata": {},
   "source": [
    "### Setting up an intercept hook on the last layer"
   ]
  },
  {
   "cell_type": "code",
   "execution_count": 13,
   "id": "be9cd41c-24de-450b-a377-0820fd3b3068",
   "metadata": {},
   "outputs": [],
   "source": [
    "activation = {}\n",
    "def get_activation(name):\n",
    "    def hook(model, input, output):\n",
    "        activation[name] = output.detach()\n",
    "    return hook\n",
    "\n",
    "final_model.model.avgpool.register_forward_hook(get_activation('avgpool')); # a 2048-element vector"
   ]
  },
  {
   "cell_type": "markdown",
   "id": "20a1dc18-15e4-42aa-a02c-88b1dba59c6c",
   "metadata": {},
   "source": [
    "### Recording track embeddings"
   ]
  },
  {
   "cell_type": "code",
   "execution_count": 14,
   "id": "5774f76f-fde4-4982-a8d9-a09d56ff26f8",
   "metadata": {},
   "outputs": [
    {
     "name": "stderr",
     "output_type": "stream",
     "text": [
      "100%|█████████████████████████████████████████████████████████████████████████████████████████████████████████████| 50/50 [03:16<00:00,  3.93s/it]\n",
      "100%|█████████████████████████████████████████████████████████████████████████████████████████████████████████████| 13/13 [01:03<00:00,  4.92s/it]\n"
     ]
    }
   ],
   "source": [
    "embeddings = {}\n",
    "\n",
    "def fill_embeddings(embeddings, data_loader):\n",
    "    for data, target, filepaths in tqdm(data_loader):\n",
    "        _ = final_model(data)\n",
    "        for embedding, filepath in zip(activation['avgpool'], filepaths):\n",
    "            filename = filepath.split('/')[-1][:-4]\n",
    "            embeddings[filename] = embedding.reshape(embedding.shape[0])\n",
    "\n",
    "fill_embeddings(embeddings, train_loader)\n",
    "fill_embeddings(embeddings, val_loader)"
   ]
  },
  {
   "cell_type": "code",
   "execution_count": 19,
   "id": "0ddd22b2-9cdd-4030-86af-52f676b476fd",
   "metadata": {},
   "outputs": [],
   "source": [
    "with open(f\"embeddings/audio_embeddings.pkl\", 'wb') as f:\n",
    "    pickle.dump(embeddings, f)"
   ]
  },
  {
   "cell_type": "code",
   "execution_count": 22,
   "id": "12ccce2a-0791-4834-9350-1bc63af9986b",
   "metadata": {},
   "outputs": [
    {
     "data": {
      "text/plain": [
       "tensor([0.1435, 0.5294, 0.0322,  ..., 0.6472, 0.4002, 0.0489])"
      ]
     },
     "execution_count": 22,
     "metadata": {},
     "output_type": "execute_result"
    }
   ],
   "source": [
    "def get_embedding(filename):\n",
    "    with open(\"embeddings/audio_embeddings.pkl\", 'rb') as f:\n",
    "        embeddings = pickle.load(f)\n",
    "    \n",
    "    return embeddings[filename]\n",
    "\n",
    "get_embedding('reggae.00032')"
   ]
  },
  {
   "cell_type": "markdown",
   "id": "c5210217-71e6-49fb-bafd-6bc3533dd0a3",
   "metadata": {},
   "source": [
    "## (Cut material for now) My netwurk."
   ]
  },
  {
   "cell_type": "code",
   "execution_count": 36,
   "id": "08e3e7b0-f313-42ff-9cc2-7cb84d8bc0c8",
   "metadata": {},
   "outputs": [],
   "source": [
    "class MyNetwurk(torch.nn.Module):\n",
    "    def __init__(self, input_size, num_classes):\n",
    "        super(MyNetwurk, self).__init__()\n",
    "        c, _, _ = input_size\n",
    "        \n",
    "        self.convlayers = torch.nn.Sequential(\n",
    "            torch.nn.Conv2d(c, 6, (3, 3)),\n",
    "            torch.nn.BatchNorm2d(6),\n",
    "            torch.nn.ReLU(inplace=True),\n",
    "            torch.nn.MaxPool2d((2, 2), stride=2), \n",
    "            \n",
    "            torch.nn.Conv2d(6, 16, (3, 3)), \n",
    "            torch.nn.BatchNorm2d(16),\n",
    "            torch.nn.ReLU(inplace=True),\n",
    "            torch.nn.MaxPool2d((2, 2), stride=2),\n",
    "            \n",
    "            torch.nn.Conv2d(16, 64, (3, 3)), \n",
    "            torch.nn.BatchNorm2d(64),\n",
    "            torch.nn.ReLU(inplace=True),\n",
    "            torch.nn.MaxPool2d((2, 2), stride=2),\n",
    "        )\n",
    "\n",
    "        self.fc = torch.nn.Sequential(\n",
    "            torch.nn.Linear(256, 120),\n",
    "            torch.nn.BatchNorm1d(120),\n",
    "            torch.nn.ReLU(inplace=True),\n",
    "            \n",
    "            torch.nn.Linear(120, 60),\n",
    "            torch.nn.BatchNorm1d(60),\n",
    "            torch.nn.ReLU(inplace=True),\n",
    "\n",
    "            torch.nn.Linear(60, num_classes),\n",
    "        )\n",
    "\n",
    "    def forward(self, x):\n",
    "        x = self.convlayers(x)\n",
    "        x = x.view(x.shape[0], -1)\n",
    "        x = self.fc(x)\n",
    "        return x"
   ]
  }
 ],
 "metadata": {
  "kernelspec": {
   "display_name": "Python 3 (ipykernel)",
   "language": "python",
   "name": "python3"
  },
  "language_info": {
   "codemirror_mode": {
    "name": "ipython",
    "version": 3
   },
   "file_extension": ".py",
   "mimetype": "text/x-python",
   "name": "python",
   "nbconvert_exporter": "python",
   "pygments_lexer": "ipython3",
   "version": "3.9.7"
  }
 },
 "nbformat": 4,
 "nbformat_minor": 5
}
